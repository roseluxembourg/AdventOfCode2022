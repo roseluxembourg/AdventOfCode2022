{
 "cells": [
  {
   "cell_type": "markdown",
   "metadata": {},
   "source": [
    "# Day 3"
   ]
  },
  {
   "cell_type": "code",
   "execution_count": 3,
   "metadata": {},
   "outputs": [],
   "source": [
    "import string\n",
    "alphabet = list(string.ascii_letters)\n",
    "priority = {letter:(i+1) for i,letter in enumerate(alphabet)}"
   ]
  },
  {
   "cell_type": "code",
   "execution_count": 16,
   "metadata": {},
   "outputs": [
    {
     "data": {
      "text/plain": [
       "8039"
      ]
     },
     "execution_count": 16,
     "metadata": {},
     "output_type": "execute_result"
    }
   ],
   "source": [
    "priorities = []\n",
    "with open(\"inputs/input3.txt\",'r') as f:\n",
    "    while line := f.readline():\n",
    "        n = len(line) - 1\n",
    "        c1, c2 = set(line[:n//2]), set(line[n//2:-1])\n",
    "        common_char = c1 & c2\n",
    "        assert(len(common_char) == 1)\n",
    "        priorities.append(priority[common_char.pop()])\n",
    "sum(priorities)   "
   ]
  },
  {
   "cell_type": "code",
   "execution_count": 19,
   "metadata": {},
   "outputs": [
    {
     "data": {
      "text/plain": [
       "2510"
      ]
     },
     "execution_count": 19,
     "metadata": {},
     "output_type": "execute_result"
    }
   ],
   "source": [
    "priorities = []\n",
    "with open(\"inputs/input3.txt\",'r') as f:\n",
    "    i=0\n",
    "    current_group = []\n",
    "    while line := f.readline():\n",
    "        current_group.append(set(line[:-1]))\n",
    "        if i%3 == 2:\n",
    "            common_char = current_group[0] & current_group[1] & current_group[2]\n",
    "            assert(len(common_char)==1)\n",
    "            priorities.append(priority[common_char.pop()])\n",
    "            current_group = []\n",
    "        i+=1\n",
    "sum(priorities)   "
   ]
  }
 ],
 "metadata": {
  "kernelspec": {
   "display_name": "Python 3.10.0 64-bit",
   "language": "python",
   "name": "python3"
  },
  "language_info": {
   "codemirror_mode": {
    "name": "ipython",
    "version": 3
   },
   "file_extension": ".py",
   "mimetype": "text/x-python",
   "name": "python",
   "nbconvert_exporter": "python",
   "pygments_lexer": "ipython3",
   "version": "3.10.0"
  },
  "orig_nbformat": 4,
  "vscode": {
   "interpreter": {
    "hash": "369f2c481f4da34e4445cda3fffd2e751bd1c4d706f27375911949ba6bb62e1c"
   }
  }
 },
 "nbformat": 4,
 "nbformat_minor": 2
}
